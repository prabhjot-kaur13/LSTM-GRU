{
 "cells": [
  {
   "cell_type": "markdown",
   "metadata": {
    "id": "9sEU59KVSmak"
   },
   "source": [
    "\n",
    "\n",
    "# PART_1 \n",
    "Compare Models: LSTM, GRU, Dense, Naïve Bayesian "
   ]
  },
  {
   "cell_type": "code",
   "execution_count": null,
   "metadata": {
    "colab": {
     "base_uri": "https://localhost:8080/"
    },
    "id": "kNmzEaHZxR5P",
    "outputId": "299f70f9-2c26-4ae1-8d02-cb62d68463df"
   },
   "outputs": [
    {
     "name": "stdout",
     "output_type": "stream",
     "text": [
      "Downloading data from https://storage.googleapis.com/tensorflow/tf-keras-datasets/imdb.npz\n",
      "17465344/17464789 [==============================] - 2s 0us/step\n"
     ]
    }
   ],
   "source": [
    "from keras.preprocessing import sequence\n",
    "from keras import models, layers, optimizers, datasets, utils, losses\n",
    "import numpy as np\n",
    "\n",
    "vocabulary_size = 10000\n",
    "maxlen = 40\n",
    "batch_size = 25\n",
    "\n",
    "(x_train, y_train), (x_test, y_test) = datasets.imdb.load_data(num_words=vocabulary_size)\n",
    "x_train = sequence.pad_sequences(x_train, maxlen)\n",
    "x_test = sequence.pad_sequences(x_test, maxlen)\n",
    "\n"
   ]
  },
  {
   "cell_type": "code",
   "execution_count": null,
   "metadata": {
    "colab": {
     "base_uri": "https://localhost:8080/"
    },
    "id": "fmHJ5i7NxR5Q",
    "outputId": "e01b6909-4cbe-430f-c989-6c3dffe6ba51",
    "scrolled": true
   },
   "outputs": [
    {
     "name": "stdout",
     "output_type": "stream",
     "text": [
      "Epoch 1/4\n",
      "1000/1000 [==============================] - 118s 118ms/step - loss: 0.5283 - accuracy: 0.7299 - val_loss: 0.4247 - val_accuracy: 0.8054\n",
      "Epoch 2/4\n",
      "1000/1000 [==============================] - 119s 119ms/step - loss: 0.4108 - accuracy: 0.8142 - val_loss: 0.4078 - val_accuracy: 0.8117\n",
      "Epoch 3/4\n",
      "1000/1000 [==============================] - 118s 118ms/step - loss: 0.3637 - accuracy: 0.8389 - val_loss: 0.4364 - val_accuracy: 0.8030\n",
      "Epoch 4/4\n",
      "1000/1000 [==============================] - 119s 119ms/step - loss: 0.3264 - accuracy: 0.8574 - val_loss: 0.4957 - val_accuracy: 0.7967\n",
      "1000/1000 [==============================] - 13s 13ms/step - loss: 0.4957 - accuracy: 0.7967\n",
      "Test accuracy: 0.796720027923584\n"
     ]
    }
   ],
   "source": [
    "#LSTM\n",
    "inputs = layers.Input(shape=(maxlen,))\n",
    "e=layers.Embedding(vocabulary_size, 128)(inputs)\n",
    "h=layers.LSTM(128, dropout=0.8, recurrent_dropout=0.8)(e)\n",
    "outputs=layers.Dense(1, activation='sigmoid')(h)\n",
    "model = models.Model(inputs, outputs)\n",
    "\n",
    "model.compile(loss='binary_crossentropy',\n",
    "              optimizer='adam',\n",
    "              metrics=['accuracy'])\n",
    "\n",
    "model.fit(x_train, y_train,\n",
    "          batch_size=batch_size,\n",
    "          epochs=4,\n",
    "          validation_data=(x_test, y_test))\n",
    "\n",
    "score, acc = model.evaluate(x_test, y_test,\n",
    "                            batch_size=batch_size)\n",
    "print('Test accuracy:', acc)"
   ]
  },
  {
   "cell_type": "code",
   "execution_count": null,
   "metadata": {
    "colab": {
     "base_uri": "https://localhost:8080/"
    },
    "id": "EhzVYpVTxR5R",
    "outputId": "9e742d8f-e771-4c6c-eee3-9836f8edf281"
   },
   "outputs": [
    {
     "name": "stdout",
     "output_type": "stream",
     "text": [
      "Epoch 1/4\n",
      "1000/1000 [==============================] - 108s 108ms/step - loss: 0.5423 - accuracy: 0.7164 - val_loss: 0.4214 - val_accuracy: 0.8035\n",
      "Epoch 2/4\n",
      "1000/1000 [==============================] - 108s 108ms/step - loss: 0.4130 - accuracy: 0.8125 - val_loss: 0.4078 - val_accuracy: 0.8117\n",
      "Epoch 3/4\n",
      "1000/1000 [==============================] - 108s 108ms/step - loss: 0.3613 - accuracy: 0.8428 - val_loss: 0.4069 - val_accuracy: 0.8123\n",
      "Epoch 4/4\n",
      "1000/1000 [==============================] - 109s 109ms/step - loss: 0.3318 - accuracy: 0.8568 - val_loss: 0.4200 - val_accuracy: 0.8116\n",
      "1000/1000 [==============================] - 12s 12ms/step - loss: 0.4200 - accuracy: 0.8116\n",
      "Test accuracy: 0.8116400241851807\n"
     ]
    }
   ],
   "source": [
    "#GRU\n",
    "from keras.preprocessing import sequence\n",
    "from keras import models, layers, optimizers, datasets, utils, losses\n",
    "\n",
    "vocabulary_size = 10000\n",
    "maxlen = 40\n",
    "batch_size = 25\n",
    "\n",
    "(x_train, y_train), (x_test, y_test) = datasets.imdb.load_data(num_words=vocabulary_size)\n",
    "x_train = sequence.pad_sequences(x_train, maxlen)\n",
    "x_test = sequence.pad_sequences(x_test, maxlen)\n",
    "\n",
    "\n",
    "inputs = layers.Input(shape=(maxlen,))\n",
    "e=layers.Embedding(vocabulary_size, 128)(inputs)\n",
    "h=layers.GRU(128, dropout=0.8, recurrent_dropout=0.8)(e)\n",
    "outputs=layers.Dense(1, activation='sigmoid')(h)\n",
    "model = models.Model(inputs, outputs)\n",
    "\n",
    "model.compile(loss='binary_crossentropy',\n",
    "              optimizer='adam',\n",
    "              metrics=['accuracy'])\n",
    "\n",
    "model.fit(x_train, y_train,\n",
    "          batch_size=batch_size,\n",
    "          epochs=4,\n",
    "          validation_data=(x_test, y_test))\n",
    "\n",
    "score, acc = model.evaluate(x_test, y_test,\n",
    "                            batch_size=batch_size)\n",
    "print('Test accuracy:', acc)"
   ]
  },
  {
   "cell_type": "code",
   "execution_count": null,
   "metadata": {
    "colab": {
     "base_uri": "https://localhost:8080/"
    },
    "id": "HnTRzFR2xR5R",
    "outputId": "c73886db-7adc-4913-96ad-b2a7717c8916"
   },
   "outputs": [
    {
     "name": "stdout",
     "output_type": "stream",
     "text": [
      "Epoch 1/4\n",
      "1000/1000 [==============================] - 20s 20ms/step - loss: 0.6798 - accuracy: 0.5524 - val_loss: 0.6771 - val_accuracy: 0.5570\n",
      "Epoch 2/4\n",
      "1000/1000 [==============================] - 20s 20ms/step - loss: 0.6728 - accuracy: 0.5645 - val_loss: 0.6775 - val_accuracy: 0.5572\n",
      "Epoch 3/4\n",
      "1000/1000 [==============================] - 21s 21ms/step - loss: 0.6712 - accuracy: 0.5664 - val_loss: 0.6783 - val_accuracy: 0.5572\n",
      "Epoch 4/4\n",
      "1000/1000 [==============================] - 20s 20ms/step - loss: 0.6704 - accuracy: 0.5674 - val_loss: 0.6791 - val_accuracy: 0.5578\n",
      "1000/1000 [==============================] - 2s 2ms/step - loss: 0.6791 - accuracy: 0.5578\n",
      "Test accuracy: 0.5577864646911621\n"
     ]
    }
   ],
   "source": [
    "#Dense\n",
    "from keras.preprocessing import sequence\n",
    "from keras import models, layers, optimizers, datasets, utils, losses\n",
    "\n",
    "vocabulary_size = 10000\n",
    "maxlen = 40\n",
    "batch_size = 25\n",
    "\n",
    "(x_train, y_train), (x_test, y_test) = datasets.imdb.load_data(num_words=vocabulary_size)\n",
    "x_train = sequence.pad_sequences(x_train, maxlen)\n",
    "x_test = sequence.pad_sequences(x_test, maxlen)\n",
    "\n",
    "\n",
    "inputs = layers.Input(shape=(maxlen,))\n",
    "e=layers.Embedding(vocabulary_size, 128)(inputs)\n",
    "h=layers.Dense(128, activation = \"relu\" )(e)\n",
    "outputs=layers.Dense(1, activation='sigmoid')(h)\n",
    "model = models.Model(inputs, outputs)\n",
    "\n",
    "model.compile(loss='binary_crossentropy',\n",
    "              optimizer='adam',\n",
    "              metrics=['accuracy'])\n",
    "\n",
    "model.fit(x_train, y_train,\n",
    "          batch_size=batch_size,\n",
    "          epochs=4,\n",
    "          validation_data=(x_test, y_test))\n",
    "\n",
    "score, acc = model.evaluate(x_test, y_test,\n",
    "                            batch_size=batch_size)\n",
    "print('Test accuracy:', acc)"
   ]
  },
  {
   "cell_type": "code",
   "execution_count": null,
   "metadata": {
    "colab": {
     "base_uri": "https://localhost:8080/"
    },
    "id": "51lub4iMxR5R",
    "outputId": "2f557e27-8baa-46bf-f000-0124efee7838"
   },
   "outputs": [
    {
     "name": "stdout",
     "output_type": "stream",
     "text": [
      "Test accuracy: 0.51028\n"
     ]
    }
   ],
   "source": [
    "# Naive Bayes\n",
    "from keras.preprocessing import sequence\n",
    "from keras import models, layers, optimizers, datasets, utils, losses\n",
    "from sklearn.naive_bayes import GaussianNB\n",
    "\n",
    "vocabulary_size = 10000\n",
    "maxlen = 40\n",
    "batch_size = 25\n",
    "\n",
    "(x_train, y_train), (x_test, y_test) = datasets.imdb.load_data(num_words=vocabulary_size)\n",
    "x_train = sequence.pad_sequences(x_train, maxlen)\n",
    "x_test = sequence.pad_sequences(x_test, maxlen)\n",
    "\n",
    "\n",
    "inputs = layers.Input(shape=(maxlen,))\n",
    "e=layers.Embedding(vocabulary_size, 128)(inputs)\n",
    "h=GaussianNB()\n",
    "\n",
    "h.fit(x_train, y_train,)\n",
    "\n",
    "acc = h.score(x_test, y_test)\n",
    "print('Test accuracy:', acc)"
   ]
  },
  {
   "cell_type": "markdown",
   "metadata": {
    "id": "ciJ7SObWwpbl"
   },
   "source": [
    "In the given task of evaluating movie reviews as good or bad, GRU has performed best with accuracy of 81% and LSTM has given accuracy of 79.6%. Where as Dense network performed poorly with accuracy of 55% and Guassian model gave the least accuracy of 51%. The main reason that LSTM and GRU performed so well is that in the input of movie review the 40 words are related to each other. Each word has influence on the next word, so it is sequential input. LSTM maintains c(t) gate to store context of the previous inputs in predicting output and similary GRU uses hidden state to store memory as well. So these are both recurrent neural network and each review is treated as related sequence that is why it performs well. In dense layer model and naive gaussian model, each word of the review is treated as separate feature and no relation between these is learned. So, these models are not able to perform well in this case."
   ]
  },
  {
   "cell_type": "markdown",
   "metadata": {
    "id": "su6fdcWW4N7Q"
   },
   "source": [
    "# PART_2\n",
    "Pairwise distance in embedding space"
   ]
  },
  {
   "cell_type": "code",
   "execution_count": null,
   "metadata": {
    "colab": {
     "base_uri": "https://localhost:8080/"
    },
    "id": "0yzPpIfV12cE",
    "outputId": "078e56ba-a9fd-469c-9fcf-6bcb93f90474"
   },
   "outputs": [
    {
     "data": {
      "text/plain": [
       "array([  22,   21,  134,  476,   26,  480,    5,  144,   30, 5535,   18,\n",
       "         51,   36,   28,  224,   92,   25,  104,    4,  226,   65,   16,\n",
       "         38, 1334,   88,   12,   16,  283,    5,   16, 4472,  113,  103,\n",
       "         32,   15,   16, 5345,   19,  178,   32], dtype=int32)"
      ]
     },
     "execution_count": 6,
     "metadata": {
      "tags": []
     },
     "output_type": "execute_result"
    }
   ],
   "source": [
    "x_train[0]"
   ]
  },
  {
   "cell_type": "code",
   "execution_count": null,
   "metadata": {
    "colab": {
     "base_uri": "https://localhost:8080/"
    },
    "id": "QKUednsi3h3W",
    "outputId": "90347701-2f55-4e5a-9c11-e2a5778c97d5"
   },
   "outputs": [
    {
     "name": "stdout",
     "output_type": "stream",
     "text": [
      "Downloading data from https://storage.googleapis.com/tensorflow/tf-keras-datasets/imdb_word_index.json\n",
      "1646592/1641221 [==============================] - 0s 0us/step\n"
     ]
    }
   ],
   "source": [
    "imdb = datasets.imdb\n",
    "word_index = imdb.get_word_index()\n",
    "reverse_word_index = dict([(value, key) for (key, value) in word_index.items()])"
   ]
  },
  {
   "cell_type": "code",
   "execution_count": null,
   "metadata": {
    "id": "ZDgDBOj733gh"
   },
   "outputs": [],
   "source": [
    "movie_review1 = [reverse_word_index.get(i-3, \"?\") for i in x_train[7]]\n",
    "movie_review2 = [reverse_word_index.get(i-3, \"?\") for i in x_train[8]]"
   ]
  },
  {
   "cell_type": "code",
   "execution_count": null,
   "metadata": {
    "colab": {
     "base_uri": "https://localhost:8080/",
     "height": 35
    },
    "id": "Ft9DaYm639m2",
    "outputId": "3ad00dcd-2e92-4c54-fd2a-3b18225c3249"
   },
   "outputs": [
    {
     "data": {
      "application/vnd.google.colaboratory.intrinsic+json": {
       "type": "string"
      },
      "text/plain": [
       "'dull'"
      ]
     },
     "execution_count": 18,
     "metadata": {
      "tags": []
     },
     "output_type": "execute_result"
    }
   ],
   "source": [
    "movie_review1[2]"
   ]
  },
  {
   "cell_type": "code",
   "execution_count": null,
   "metadata": {
    "colab": {
     "base_uri": "https://localhost:8080/",
     "height": 35
    },
    "id": "58ramfbn5qRM",
    "outputId": "8d87317a-0022-4740-8c5f-bd02582b726a"
   },
   "outputs": [
    {
     "data": {
      "application/vnd.google.colaboratory.intrinsic+json": {
       "type": "string"
      },
      "text/plain": [
       "'boring'"
      ]
     },
     "execution_count": 19,
     "metadata": {
      "tags": []
     },
     "output_type": "execute_result"
    }
   ],
   "source": [
    "movie_review1[3]"
   ]
  },
  {
   "cell_type": "code",
   "execution_count": null,
   "metadata": {
    "colab": {
     "base_uri": "https://localhost:8080/",
     "height": 35
    },
    "id": "9Gs5EuEz57kT",
    "outputId": "ead0ee4b-7417-4e48-c44c-036011482cb9"
   },
   "outputs": [
    {
     "data": {
      "application/vnd.google.colaboratory.intrinsic+json": {
       "type": "string"
      },
      "text/plain": [
       "'best'"
      ]
     },
     "execution_count": 23,
     "metadata": {
      "tags": []
     },
     "output_type": "execute_result"
    }
   ],
   "source": [
    "movie_review2[34]"
   ]
  },
  {
   "cell_type": "markdown",
   "metadata": {
    "id": "uxzSKNUzHbnT"
   },
   "source": [
    "**Pairwise distance for Dense model**\n"
   ]
  },
  {
   "cell_type": "code",
   "execution_count": null,
   "metadata": {
    "colab": {
     "base_uri": "https://localhost:8080/"
    },
    "id": "8hYuEeJZZ52R",
    "outputId": "b27bcaf6-06f0-4202-8a5e-8c002cf18836"
   },
   "outputs": [
    {
     "name": "stdout",
     "output_type": "stream",
     "text": [
      "Epoch 1/4\n",
      "1000/1000 [==============================] - 26s 26ms/step - loss: 4.2420 - dense_5_loss: 0.4975 - flatten_loss: 3.7445 - dense_5_accuracy: 0.7414 - flatten_accuracy: 4.0000e-05 - val_loss: 3.7991 - val_dense_5_loss: 0.4565 - val_flatten_loss: 3.3426 - val_dense_5_accuracy: 0.7862 - val_flatten_accuracy: 0.0000e+00\n",
      "Epoch 2/4\n",
      "1000/1000 [==============================] - 26s 26ms/step - loss: 3.3930 - dense_5_loss: 0.2571 - flatten_loss: 3.1359 - dense_5_accuracy: 0.8915 - flatten_accuracy: 4.0000e-04 - val_loss: 3.4725 - val_dense_5_loss: 0.5083 - val_flatten_loss: 2.9641 - val_dense_5_accuracy: 0.7801 - val_flatten_accuracy: 3.6000e-04\n",
      "Epoch 3/4\n",
      "1000/1000 [==============================] - 25s 25ms/step - loss: 2.9112 - dense_5_loss: 0.0608 - flatten_loss: 2.8504 - dense_5_accuracy: 0.9780 - flatten_accuracy: 0.0014 - val_loss: 3.6240 - val_dense_5_loss: 0.9007 - val_flatten_loss: 2.7233 - val_dense_5_accuracy: 0.7633 - val_flatten_accuracy: 0.0000e+00\n",
      "Epoch 4/4\n",
      "1000/1000 [==============================] - 25s 25ms/step - loss: 2.6576 - dense_5_loss: 0.0250 - flatten_loss: 2.6325 - dense_5_accuracy: 0.9915 - flatten_accuracy: 3.2000e-04 - val_loss: 3.6014 - val_dense_5_loss: 1.0662 - val_flatten_loss: 2.5352 - val_dense_5_accuracy: 0.7646 - val_flatten_accuracy: 0.0000e+00\n"
     ]
    },
    {
     "data": {
      "text/plain": [
       "<tensorflow.python.keras.callbacks.History at 0x7f7cea222cc0>"
      ]
     },
     "execution_count": 24,
     "metadata": {
      "tags": []
     },
     "output_type": "execute_result"
    }
   ],
   "source": [
    "# getting embedding from Dense network\n",
    "inputs = layers.Input(shape=(maxlen,))\n",
    "e =layers.Embedding(vocabulary_size, 128)(inputs)\n",
    "emb=layers.Flatten()(e)\n",
    "h=layers.Dense(128, activation = \"relu\" )(emb)\n",
    "outputs=layers.Dense(1, activation='sigmoid',)(h)\n",
    "model = models.Model(inputs, outputs = [outputs,emb])\n",
    "\n",
    "model.compile(loss='binary_crossentropy',\n",
    "              optimizer='adam',\n",
    "              metrics=['accuracy'])\n",
    "\n",
    "model.fit(x_train, y_train,\n",
    "          batch_size=batch_size,\n",
    "          epochs=4,\n",
    "          validation_data=(x_test, y_test))\n"
   ]
  },
  {
   "cell_type": "code",
   "execution_count": null,
   "metadata": {
    "id": "PO0sstFc-CC4"
   },
   "outputs": [],
   "source": [
    "y_pred = model.predict(x_train)\n",
    "emb1 = y_pred[1][7]\n",
    "emb1 = emb1.reshape(40,128)\n",
    "emb_dull = emb1[2]\n",
    "emb_boring = emb1[3]"
   ]
  },
  {
   "cell_type": "code",
   "execution_count": null,
   "metadata": {
    "id": "0IJ5XvYVB0S-"
   },
   "outputs": [],
   "source": [
    " emb2 = y_pred[1][8]\n",
    " emb2 = emb2.reshape(40,128)\n",
    " emb_best = emb2[34]"
   ]
  },
  {
   "cell_type": "code",
   "execution_count": null,
   "metadata": {
    "colab": {
     "base_uri": "https://localhost:8080/"
    },
    "id": "j1oiorJzCMoc",
    "outputId": "aec6a5ab-43ac-4541-9641-a06b2e36b5a3"
   },
   "outputs": [
    {
     "name": "stdout",
     "output_type": "stream",
     "text": [
      "1.2481439113616943\n"
     ]
    }
   ],
   "source": [
    "from scipy.spatial import distance\n",
    "d1 = distance.euclidean(emb_dull, emb_boring)\n",
    "print(d1)"
   ]
  },
  {
   "cell_type": "code",
   "execution_count": null,
   "metadata": {
    "colab": {
     "base_uri": "https://localhost:8080/"
    },
    "id": "LYE8st-XCUZa",
    "outputId": "cda5a69e-7fec-47f2-9dcc-94d25cf699bc"
   },
   "outputs": [
    {
     "data": {
      "text/plain": [
       "2.5505788326263428"
      ]
     },
     "execution_count": 35,
     "metadata": {
      "tags": []
     },
     "output_type": "execute_result"
    }
   ],
   "source": [
    "d2 = distance.euclidean(emb_dull, emb_best)\n",
    "d2"
   ]
  },
  {
   "cell_type": "code",
   "execution_count": null,
   "metadata": {
    "colab": {
     "base_uri": "https://localhost:8080/"
    },
    "id": "VAIWu7toCbg8",
    "outputId": "6637b8ac-b3a4-4d7f-adc0-36368bfd2501"
   },
   "outputs": [
    {
     "data": {
      "text/plain": [
       "2.688584089279175"
      ]
     },
     "execution_count": 36,
     "metadata": {
      "tags": []
     },
     "output_type": "execute_result"
    }
   ],
   "source": [
    "d3 = distance.euclidean(emb_boring, emb_best)\n",
    "d3"
   ]
  },
  {
   "cell_type": "markdown",
   "metadata": {
    "id": "057i2rPEHoTg"
   },
   "source": [
    "**Pairwise distance for LSTM model**"
   ]
  },
  {
   "cell_type": "code",
   "execution_count": null,
   "metadata": {
    "colab": {
     "base_uri": "https://localhost:8080/"
    },
    "id": "JOA87w8zbZtI",
    "outputId": "35e8cdf1-088f-4dbb-848e-f3ed0a0041dc"
   },
   "outputs": [
    {
     "name": "stdout",
     "output_type": "stream",
     "text": [
      "Epoch 1/4\n",
      "1000/1000 [==============================] - 134s 134ms/step - loss: 4.2197 - dense_6_loss: 0.5556 - flatten_1_loss: 3.6641 - dense_6_accuracy: 0.7074 - flatten_1_accuracy: 0.0000e+00 - val_loss: 3.6050 - val_dense_6_loss: 0.4236 - val_flatten_1_loss: 3.1813 - val_dense_6_accuracy: 0.8031 - val_flatten_1_accuracy: 0.0000e+00\n",
      "Epoch 2/4\n",
      "1000/1000 [==============================] - 130s 130ms/step - loss: 3.3601 - dense_6_loss: 0.4134 - flatten_1_loss: 2.9467 - dense_6_accuracy: 0.8104 - flatten_1_accuracy: 0.0000e+00 - val_loss: 3.1796 - val_dense_6_loss: 0.4166 - val_flatten_1_loss: 2.7630 - val_dense_6_accuracy: 0.8037 - val_flatten_1_accuracy: 0.0000e+00\n",
      "Epoch 3/4\n",
      "1000/1000 [==============================] - 129s 129ms/step - loss: 2.9825 - dense_6_loss: 0.3516 - flatten_1_loss: 2.6310 - dense_6_accuracy: 0.8472 - flatten_1_accuracy: 0.0000e+00 - val_loss: 2.9548 - val_dense_6_loss: 0.4198 - val_flatten_1_loss: 2.5349 - val_dense_6_accuracy: 0.8066 - val_flatten_1_accuracy: 0.0000e+00\n",
      "Epoch 4/4\n",
      "1000/1000 [==============================] - 130s 130ms/step - loss: 2.7456 - dense_6_loss: 0.3146 - flatten_1_loss: 2.4309 - dense_6_accuracy: 0.8661 - flatten_1_accuracy: 0.0000e+00 - val_loss: 2.8267 - val_dense_6_loss: 0.4694 - val_flatten_1_loss: 2.3572 - val_dense_6_accuracy: 0.8017 - val_flatten_1_accuracy: 0.0000e+00\n"
     ]
    },
    {
     "data": {
      "text/plain": [
       "<tensorflow.python.keras.callbacks.History at 0x7f7cf64c6dd8>"
      ]
     },
     "execution_count": 32,
     "metadata": {
      "tags": []
     },
     "output_type": "execute_result"
    }
   ],
   "source": [
    "inputs = layers.Input(shape=(maxlen,))\n",
    "e=layers.Embedding(vocabulary_size, 128)(inputs)\n",
    "emb=layers.Flatten()(e)\n",
    "h=layers.LSTM(128, dropout=0.8, recurrent_dropout=0.8)(e)\n",
    "outputs=layers.Dense(1, activation='sigmoid')(h)\n",
    "model = models.Model(inputs,  outputs = [outputs,emb])\n",
    "\n",
    "model.compile(loss='binary_crossentropy',\n",
    "              optimizer='adam',\n",
    "              metrics=['accuracy'])\n",
    "\n",
    "model.fit(x_train, y_train,\n",
    "          batch_size=batch_size,\n",
    "          epochs=4,\n",
    "          validation_data=(x_test, y_test))"
   ]
  },
  {
   "cell_type": "code",
   "execution_count": null,
   "metadata": {
    "id": "ESHclMqOc3Un"
   },
   "outputs": [],
   "source": [
    "y_pred = model.predict(x_train)\n",
    "emb1 = y_pred[1][7]\n",
    "emb1 = emb1.reshape(40,128)\n",
    "emb_dull = emb1[2]\n",
    "emb_boring = emb1[3]"
   ]
  },
  {
   "cell_type": "code",
   "execution_count": null,
   "metadata": {
    "id": "nVIDFKWFdYe4"
   },
   "outputs": [],
   "source": [
    " emb2 = y_pred[1][8]\n",
    " emb2 = emb2.reshape(40,128)\n",
    " emb_best = emb2[34]"
   ]
  },
  {
   "cell_type": "code",
   "execution_count": null,
   "metadata": {
    "colab": {
     "base_uri": "https://localhost:8080/"
    },
    "id": "L0GovaPVepI7",
    "outputId": "3fc25a6e-cebe-42cb-8f8e-bcc1543e770a"
   },
   "outputs": [
    {
     "name": "stdout",
     "output_type": "stream",
     "text": [
      "1.1012248992919922\n"
     ]
    }
   ],
   "source": [
    "from scipy.spatial import distance\n",
    "d1 = distance.euclidean(emb_dull, emb_boring)\n",
    "print(d1)"
   ]
  },
  {
   "cell_type": "code",
   "execution_count": null,
   "metadata": {
    "colab": {
     "base_uri": "https://localhost:8080/"
    },
    "id": "5sU5zROpHFQz",
    "outputId": "bf3a2ba1-4a10-44c2-9b64-470d4511f4d6"
   },
   "outputs": [
    {
     "data": {
      "text/plain": [
       "2.8943264484405518"
      ]
     },
     "execution_count": 40,
     "metadata": {
      "tags": []
     },
     "output_type": "execute_result"
    }
   ],
   "source": [
    "d2 = distance.euclidean(emb_dull, emb_best)\n",
    "d2"
   ]
  },
  {
   "cell_type": "code",
   "execution_count": null,
   "metadata": {
    "colab": {
     "base_uri": "https://localhost:8080/"
    },
    "id": "e2GkoOtTERFb",
    "outputId": "5b308335-1c00-4c37-810b-82e0285d43f4"
   },
   "outputs": [
    {
     "data": {
      "text/plain": [
       "2.622497320175171"
      ]
     },
     "execution_count": 41,
     "metadata": {
      "tags": []
     },
     "output_type": "execute_result"
    }
   ],
   "source": [
    "d3 = distance.euclidean(emb_boring, emb_best)\n",
    "d3"
   ]
  },
  {
   "cell_type": "markdown",
   "metadata": {
    "id": "yo6UY8SEHx74"
   },
   "source": [
    "**Pairwise distance for GRU model**"
   ]
  },
  {
   "cell_type": "code",
   "execution_count": null,
   "metadata": {
    "colab": {
     "base_uri": "https://localhost:8080/"
    },
    "id": "4PPGwliYFNcg",
    "outputId": "6c9dc753-c168-4a1b-e7cc-21f60983e99f"
   },
   "outputs": [
    {
     "name": "stdout",
     "output_type": "stream",
     "text": [
      "Epoch 1/4\n",
      "1000/1000 [==============================] - 128s 128ms/step - loss: 4.1913 - dense_7_loss: 0.5662 - flatten_2_loss: 3.6251 - dense_7_accuracy: 0.6883 - flatten_2_accuracy: 0.0000e+00 - val_loss: 3.5249 - val_dense_7_loss: 0.4190 - val_flatten_2_loss: 3.1059 - val_dense_7_accuracy: 0.8052 - val_flatten_2_accuracy: 0.0000e+00\n",
      "Epoch 2/4\n",
      "1000/1000 [==============================] - 121s 121ms/step - loss: 3.2726 - dense_7_loss: 0.4025 - flatten_2_loss: 2.8702 - dense_7_accuracy: 0.8166 - flatten_2_accuracy: 0.0000e+00 - val_loss: 3.1231 - val_dense_7_loss: 0.4195 - val_flatten_2_loss: 2.7036 - val_dense_7_accuracy: 0.8069 - val_flatten_2_accuracy: 0.0000e+00\n",
      "Epoch 3/4\n",
      "1000/1000 [==============================] - 120s 120ms/step - loss: 2.9069 - dense_7_loss: 0.3492 - flatten_2_loss: 2.5577 - dense_7_accuracy: 0.8489 - flatten_2_accuracy: 0.0000e+00 - val_loss: 2.8909 - val_dense_7_loss: 0.4265 - val_flatten_2_loss: 2.4644 - val_dense_7_accuracy: 0.8050 - val_flatten_2_accuracy: 0.0000e+00\n",
      "Epoch 4/4\n",
      "1000/1000 [==============================] - 121s 121ms/step - loss: 2.6817 - dense_7_loss: 0.3190 - flatten_2_loss: 2.3627 - dense_7_accuracy: 0.8626 - flatten_2_accuracy: 0.0000e+00 - val_loss: 2.7587 - val_dense_7_loss: 0.4582 - val_flatten_2_loss: 2.3005 - val_dense_7_accuracy: 0.7942 - val_flatten_2_accuracy: 0.0000e+00\n"
     ]
    },
    {
     "data": {
      "text/plain": [
       "<tensorflow.python.keras.callbacks.History at 0x7f7ce60fd668>"
      ]
     },
     "execution_count": 42,
     "metadata": {
      "tags": []
     },
     "output_type": "execute_result"
    }
   ],
   "source": [
    "inputs = layers.Input(shape=(maxlen,))\n",
    "e=layers.Embedding(vocabulary_size, 128)(inputs)\n",
    "emb=layers.Flatten()(e)\n",
    "h=layers.GRU(128, dropout=0.8, recurrent_dropout=0.8)(e)\n",
    "outputs=layers.Dense(1, activation='sigmoid')(h)\n",
    "model = models.Model(inputs,  outputs = [outputs,emb])\n",
    "\n",
    "model.compile(loss='binary_crossentropy',\n",
    "              optimizer='adam',\n",
    "              metrics=['accuracy'])\n",
    "\n",
    "model.fit(x_train, y_train,\n",
    "          batch_size=batch_size,\n",
    "          epochs=4,\n",
    "          validation_data=(x_test, y_test))"
   ]
  },
  {
   "cell_type": "code",
   "execution_count": null,
   "metadata": {
    "id": "y0zAVsfJFTj-"
   },
   "outputs": [],
   "source": [
    "y_pred = model.predict(x_train)\n",
    "emb1 = y_pred[1][7]\n",
    "emb1 = emb1.reshape(40,128)\n",
    "emb_dull = emb1[2]\n",
    "emb_boring = emb1[3]"
   ]
  },
  {
   "cell_type": "code",
   "execution_count": null,
   "metadata": {
    "id": "5dnZ787oFVjf"
   },
   "outputs": [],
   "source": [
    " emb2 = y_pred[1][8]\n",
    " emb2 = emb2.reshape(40,128)\n",
    " emb_best = emb2[34]"
   ]
  },
  {
   "cell_type": "code",
   "execution_count": null,
   "metadata": {
    "colab": {
     "base_uri": "https://localhost:8080/"
    },
    "id": "cmz5AzcyFXl8",
    "outputId": "7583c5ce-baed-4b1a-b152-067c0ad523ed"
   },
   "outputs": [
    {
     "name": "stdout",
     "output_type": "stream",
     "text": [
      "1.2452424764633179\n"
     ]
    }
   ],
   "source": [
    "from scipy.spatial import distance\n",
    "d1 = distance.euclidean(emb_dull, emb_boring)\n",
    "print(d1)"
   ]
  },
  {
   "cell_type": "code",
   "execution_count": null,
   "metadata": {
    "colab": {
     "base_uri": "https://localhost:8080/"
    },
    "id": "qA2FhEvuFZoc",
    "outputId": "1310634c-48b8-4846-883a-93e442e3b294"
   },
   "outputs": [
    {
     "data": {
      "text/plain": [
       "2.708897113800049"
      ]
     },
     "execution_count": 46,
     "metadata": {
      "tags": []
     },
     "output_type": "execute_result"
    }
   ],
   "source": [
    "d2 = distance.euclidean(emb_dull, emb_best)\n",
    "d2"
   ]
  },
  {
   "cell_type": "code",
   "execution_count": null,
   "metadata": {
    "colab": {
     "base_uri": "https://localhost:8080/"
    },
    "id": "b2gDv1vNFbnt",
    "outputId": "fffca5e8-9090-4e6b-8ed8-e71072e40d29"
   },
   "outputs": [
    {
     "data": {
      "text/plain": [
       "2.720167875289917"
      ]
     },
     "execution_count": 47,
     "metadata": {
      "tags": []
     },
     "output_type": "execute_result"
    }
   ],
   "source": [
    "d3 = distance.euclidean(emb_boring, emb_best)\n",
    "d3"
   ]
  }
 ],
 "metadata": {
  "colab": {
   "collapsed_sections": [],
   "name": "Assignment7_B00843735(code)",
   "provenance": []
  },
  "kernelspec": {
   "display_name": "Python 3",
   "language": "python",
   "name": "python3"
  },
  "language_info": {
   "codemirror_mode": {
    "name": "ipython",
    "version": 3
   },
   "file_extension": ".py",
   "mimetype": "text/x-python",
   "name": "python",
   "nbconvert_exporter": "python",
   "pygments_lexer": "ipython3",
   "version": "3.8.5"
  }
 },
 "nbformat": 4,
 "nbformat_minor": 1
}
